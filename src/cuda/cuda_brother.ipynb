{
  "nbformat": 4,
  "nbformat_minor": 0,
  "metadata": {
    "colab": {
      "provenance": [],
      "gpuType": "T4"
    },
    "kernelspec": {
      "name": "python3",
      "display_name": "Python 3"
    },
    "language_info": {
      "name": "python"
    },
    "accelerator": "GPU"
  },
  "cells": [
    {
      "cell_type": "code",
      "source": [
        "!ls /usr/local"
      ],
      "metadata": {
        "id": "pSnKLBZr3b--",
        "colab": {
          "base_uri": "https://localhost:8080/"
        },
        "outputId": "9611f317-d51f-40c0-ee86-a42645f91c8b"
      },
      "execution_count": 97,
      "outputs": [
        {
          "output_type": "stream",
          "name": "stdout",
          "text": [
            "bin    cuda\tcuda-12.2  games\t       include\tlib64\t   man\t share\n",
            "colab  cuda-12\tetc\t   _gcs_config_ops.so  lib\tlicensing  sbin  src\n"
          ]
        }
      ]
    },
    {
      "cell_type": "code",
      "source": [
        "!which nvcc"
      ],
      "metadata": {
        "id": "IGycp6lG3byI",
        "colab": {
          "base_uri": "https://localhost:8080/"
        },
        "outputId": "0522629b-6649-4d66-850a-eff74aeb332e"
      },
      "execution_count": 98,
      "outputs": [
        {
          "output_type": "stream",
          "name": "stdout",
          "text": [
            "/usr/local/cuda/bin/nvcc\n"
          ]
        }
      ]
    },
    {
      "cell_type": "code",
      "source": [
        "!nvcc --version"
      ],
      "metadata": {
        "id": "_rB7yDQT9aOv",
        "colab": {
          "base_uri": "https://localhost:8080/"
        },
        "outputId": "c9b644e6-99a2-491e-99d7-28c24001a25d"
      },
      "execution_count": 99,
      "outputs": [
        {
          "output_type": "stream",
          "name": "stdout",
          "text": [
            "nvcc: NVIDIA (R) Cuda compiler driver\n",
            "Copyright (c) 2005-2023 NVIDIA Corporation\n",
            "Built on Tue_Aug_15_22:02:13_PDT_2023\n",
            "Cuda compilation tools, release 12.2, V12.2.140\n",
            "Build cuda_12.2.r12.2/compiler.33191640_0\n"
          ]
        }
      ]
    },
    {
      "cell_type": "code",
      "source": [
        "!nvidia-smi"
      ],
      "metadata": {
        "id": "A2sk1LUm7chj",
        "colab": {
          "base_uri": "https://localhost:8080/"
        },
        "outputId": "5f40be7b-7d47-4d6b-c4b0-f2fe5d1e154e"
      },
      "execution_count": 100,
      "outputs": [
        {
          "output_type": "stream",
          "name": "stdout",
          "text": [
            "Sun Apr 14 16:39:06 2024       \n",
            "+---------------------------------------------------------------------------------------+\n",
            "| NVIDIA-SMI 535.104.05             Driver Version: 535.104.05   CUDA Version: 12.2     |\n",
            "|-----------------------------------------+----------------------+----------------------+\n",
            "| GPU  Name                 Persistence-M | Bus-Id        Disp.A | Volatile Uncorr. ECC |\n",
            "| Fan  Temp   Perf          Pwr:Usage/Cap |         Memory-Usage | GPU-Util  Compute M. |\n",
            "|                                         |                      |               MIG M. |\n",
            "|=========================================+======================+======================|\n",
            "|   0  Tesla T4                       Off | 00000000:00:04.0 Off |                    0 |\n",
            "| N/A   37C    P8               9W /  70W |      0MiB / 15360MiB |      0%      Default |\n",
            "|                                         |                      |                  N/A |\n",
            "+-----------------------------------------+----------------------+----------------------+\n",
            "                                                                                         \n",
            "+---------------------------------------------------------------------------------------+\n",
            "| Processes:                                                                            |\n",
            "|  GPU   GI   CI        PID   Type   Process name                            GPU Memory |\n",
            "|        ID   ID                                                             Usage      |\n",
            "|=======================================================================================|\n",
            "|  No running processes found                                                           |\n",
            "+---------------------------------------------------------------------------------------+\n"
          ]
        }
      ]
    },
    {
      "cell_type": "code",
      "source": [
        "!pip install git+https://github.com/andreinechaev/nvcc4jupyter.git"
      ],
      "metadata": {
        "id": "JDjCpMlC4If2",
        "colab": {
          "base_uri": "https://localhost:8080/"
        },
        "outputId": "653d1207-f59c-4ed8-db9c-c4c53ced2af5"
      },
      "execution_count": 101,
      "outputs": [
        {
          "output_type": "stream",
          "name": "stdout",
          "text": [
            "Collecting git+https://github.com/andreinechaev/nvcc4jupyter.git\n",
            "  Cloning https://github.com/andreinechaev/nvcc4jupyter.git to /tmp/pip-req-build-z3ehs0os\n",
            "  Running command git clone --filter=blob:none --quiet https://github.com/andreinechaev/nvcc4jupyter.git /tmp/pip-req-build-z3ehs0os\n",
            "  Resolved https://github.com/andreinechaev/nvcc4jupyter.git to commit 5741c522547756ac4bb7a16df32106a15efb8a57\n",
            "  Installing build dependencies ... \u001b[?25l\u001b[?25hdone\n",
            "  Getting requirements to build wheel ... \u001b[?25l\u001b[?25hdone\n",
            "  Preparing metadata (pyproject.toml) ... \u001b[?25l\u001b[?25hdone\n"
          ]
        }
      ]
    },
    {
      "cell_type": "code",
      "source": [
        "%%writefile cuda.cu\n",
        "\n",
        "#include <stdio.h>\n",
        "#include <iostream>\n",
        "#include <ctime>\n",
        "#include <cmath>\n",
        "#include <cuda_runtime.h>\n",
        "#include <iomanip> // for std::setw\n",
        "\n",
        "__global__ void makeRightHandSideIdentity(double *mat, int n) {\n",
        "    int tid = blockIdx.x * blockDim.x + threadIdx.x;\n",
        "    if (tid < n) {\n",
        "        for (int j = n; j < 2 * n; ++j) {\n",
        "            if (tid == j - n) {\n",
        "                mat[tid * (2 * n) + j] = 1.0;\n",
        "            } else {\n",
        "                mat[tid * (2 * n) + j] = 0.0;\n",
        "            }\n",
        "        }\n",
        "    }\n",
        "}\n",
        "\n",
        "__global__ void partialPivoting(double *mat, int n) {\n",
        "    int tid = blockIdx.x * blockDim.x + threadIdx.x;\n",
        "    if (tid < n - 1) {\n",
        "        if (mat[tid * (2 * n) + 1] > mat[(tid + 1) * (2 * n) + 1]) {\n",
        "            for (int j = 0; j < 2 * n; ++j) {\n",
        "                double temp = mat[tid * (2 * n) + j];\n",
        "                mat[tid * (2 * n) + j] = mat[(tid + 1) * (2 * n) + j];\n",
        "                mat[(tid + 1) * (2 * n) + j] = temp;\n",
        "            }\n",
        "        }\n",
        "    }\n",
        "}\n",
        "\n",
        "__global__ void reduceToDiagonal(double *mat, int n) {\n",
        "    int tid = blockIdx.x * blockDim.x + threadIdx.x;\n",
        "    if (tid < n) {\n",
        "        if (mat[tid * (2 * n) + tid] != 0) {\n",
        "            for (int i = tid + 1; i < n; ++i) {\n",
        "                double d = mat[i * (2 * n) + tid] / mat[tid * (2 * n) + tid]; // Use d here\n",
        "                for (int k = tid; k < 2 * n; ++k) {\n",
        "                    mat[i * (2 * n) + k] -= mat[tid * (2 * n) + k] * d;\n",
        "                }\n",
        "            }\n",
        "        }\n",
        "    }\n",
        "}\n",
        "\n",
        "__global__ void reduceToUnitMatrix(double *mat, int n) {\n",
        "    int tid = blockIdx.x * blockDim.x + threadIdx.x;\n",
        "    if (tid < n) {\n",
        "        if (mat[tid * (2 * n) + tid] != 0) {\n",
        "            double d = mat[tid * (2 * n) + tid]; // Use d here\n",
        "            for (int j = tid; j < 2 * n; ++j) {\n",
        "                mat[tid * (2 * n) + j] = mat[tid * (2 * n) + j] / d;\n",
        "            }\n",
        "        }\n",
        "    }\n",
        "}\n",
        "\n",
        "void printMatrix(double *mat, int n) {\n",
        "    for (int i = 0; i < n; ++i) {\n",
        "        for (int j = 0; j < 2 * n; ++j) {\n",
        "            std::cout << std::setw(8) << mat[i * (2 * n) + j] << \" \";\n",
        "        }\n",
        "        std::cout << std::endl;\n",
        "    }\n",
        "}\n",
        "\n",
        "void printDeviceMatrix(double *d_mat, int n) {\n",
        "    double *temp_mat = new double[2 * n * 2 * n];\n",
        "    cudaMemcpy(temp_mat, d_mat, (2 * n) * (2 * n) * sizeof(double), cudaMemcpyDeviceToHost);\n",
        "    printMatrix(temp_mat, n);\n",
        "    delete[] temp_mat;\n",
        "}\n",
        "\n",
        "int main() {\n",
        "    int n;\n",
        "    double *mat = nullptr;\n",
        "\n",
        "    std::cin >> n;\n",
        "\n",
        "    // Allocate memory for matrix array on CPU\n",
        "    mat = new double[2 * n * 2 * n];\n",
        "\n",
        "    // Inputs the coefficients of the matrix\n",
        "    for (int i = 0; i < n; ++i) {\n",
        "        for (int j = 0; j < n; ++j) {\n",
        "            std::cin >> mat[i * (2 * n) + j];\n",
        "        }\n",
        "    }\n",
        "\n",
        "    // Print the input matrix\n",
        "    // std::cout << \"Input matrix:\" << std::endl;\n",
        "    // printMatrix(mat, n);\n",
        "\n",
        "    // CUDA memory allocation\n",
        "    double *d_mat;\n",
        "    cudaMalloc((void **)&d_mat, (2 * n) * (2 * n) * sizeof(double));\n",
        "    cudaMemcpy(d_mat, mat, (2 * n) * (2 * n) * sizeof(double), cudaMemcpyHostToDevice);\n",
        "\n",
        "    // Print the content of d_mat after memory copy\n",
        "    // std::cout << \"Content of d_mat after memory copy:\" << std::endl;\n",
        "    // printDeviceMatrix(d_mat, n);\n",
        "\n",
        "    // Launch CUDA kernels\n",
        "    dim3 threadsPerBlock(16, 16);\n",
        "    dim3 numBlocks((n + threadsPerBlock.x - 1) / threadsPerBlock.x, 1);\n",
        "\n",
        "    // Call CUDA kernel to make right hand side identity\n",
        "    makeRightHandSideIdentity<<<numBlocks, threadsPerBlock>>>(d_mat, n);\n",
        "    cudaDeviceSynchronize();\n",
        "\n",
        "    std::cout << \"Content of d_mat after making right hand side identity:\" << std::endl;\n",
        "    printDeviceMatrix(d_mat, n);\n",
        "\n",
        "    partialPivoting<<<numBlocks, threadsPerBlock>>>(d_mat, n);\n",
        "    cudaDeviceSynchronize();\n",
        "\n",
        "    std::cout << \"Content of d_mat after partial pivoting:\" << std::endl;\n",
        "    printDeviceMatrix(d_mat, n);\n",
        "\n",
        "    reduceToDiagonal<<<numBlocks, threadsPerBlock>>>(d_mat, n);\n",
        "    cudaDeviceSynchronize();\n",
        "\n",
        "    // std::cout << \"Content of d_mat after reduce to diagonal:\" << std::endl;\n",
        "    // printDeviceMatrix(d_mat, n);\n",
        "\n",
        "    reduceToUnitMatrix<<<numBlocks, threadsPerBlock>>>(d_mat, n);\n",
        "    cudaDeviceSynchronize();\n",
        "\n",
        "    // Copy results back to CPU\n",
        "    cudaMemcpy(mat, d_mat, (2 * n) * (2 * n) * sizeof(double), cudaMemcpyDeviceToHost);\n",
        "\n",
        "    // Print the output matrix\n",
        "    // std::cout << \"Output matrix:\" << std::endl;\n",
        "    // printMatrix(mat, n);\n",
        "\n",
        "    // Free memory\n",
        "    delete[] mat;\n",
        "    cudaFree(d_mat);\n",
        "\n",
        "    return 0;\n",
        "}"
      ],
      "metadata": {
        "id": "mJxJGNUf3bTi",
        "colab": {
          "base_uri": "https://localhost:8080/"
        },
        "outputId": "85be6ea4-5284-440e-c0e4-ff3a6f5c5214"
      },
      "execution_count": 102,
      "outputs": [
        {
          "output_type": "stream",
          "name": "stdout",
          "text": [
            "Overwriting cuda.cu\n"
          ]
        }
      ]
    },
    {
      "cell_type": "code",
      "execution_count": 103,
      "metadata": {
        "id": "Htn8MUfw3Y3-"
      },
      "outputs": [],
      "source": [
        "!nvcc cuda.cu -o cuda"
      ]
    },
    {
      "cell_type": "code",
      "source": [
        "!./cuda < 8.txt"
      ],
      "metadata": {
        "id": "9gcevNpr30VU",
        "colab": {
          "base_uri": "https://localhost:8080/"
        },
        "outputId": "8e8034c6-b170-4fac-de1b-68bb9bb9a20b"
      },
      "execution_count": 104,
      "outputs": [
        {
          "output_type": "stream",
          "name": "stdout",
          "text": [
            "Content of d_mat after making right hand side identity:\n",
            "       6        2        8        1        6        4        8        8        1        0        0        0        0        0        0        0 \n",
            "       5        4        8        6        6        4        4        9        0        1        0        0        0        0        0        0 \n",
            "       1        1        2        7        5        5        4        8        0        0        1        0        0        0        0        0 \n",
            "       8        0        9        3        1        1        0        1        0        0        0        1        0        0        0        0 \n",
            "       5        5        6        9        6        4        7        1        0        0        0        0        1        0        0        0 \n",
            "       0        1        3        5        9        7        7        9        0        0        0        0        0        1        0        0 \n",
            "       2        8        7        3        4        4        7        2        0        0        0        0        0        0        1        0 \n",
            "       0        8        5        9        5        4        9        7        0        0        0        0        0        0        0        1 \n",
            "Content of d_mat after partial pivoting:\n",
            "       6        2        8        1        6        4        8        8        1        0        0        0        0        0        0        0 \n",
            "       1        1        2        7        5        5        4        8        0        0        1        0        0        0        0        0 \n",
            "       5        4        8        6        6        4        4        9        0        1        0        0        0        0        0        0 \n",
            "       1        1        2        7        5        5        4        8        0        0        1        0        0        0        0        0 \n",
            "       0        1        3        5        9        7        7        9        0        0        0        0        0        1        0        0 \n",
            "       5        5        6        9        6        4        7        1        0        0        0        0        1        0        0        0 \n",
            "       2        8        7        3        4        4        7        2        0        0        0        0        0        0        1        0 \n",
            "       0        8        5        9        5        4        9        7        0        0        0        0        0        0        0        1 \n"
          ]
        }
      ]
    }
  ]
}