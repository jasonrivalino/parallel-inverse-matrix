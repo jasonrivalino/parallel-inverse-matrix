{
  "cells": [
    {
      "cell_type": "code",
      "execution_count": 97,
      "metadata": {
        "colab": {
          "base_uri": "https://localhost:8080/"
        },
        "id": "pSnKLBZr3b--",
        "outputId": "9611f317-d51f-40c0-ee86-a42645f91c8b"
      },
      "outputs": [
        {
          "name": "stdout",
          "output_type": "stream",
          "text": [
            "bin    cuda\tcuda-12.2  games\t       include\tlib64\t   man\t share\n",
            "colab  cuda-12\tetc\t   _gcs_config_ops.so  lib\tlicensing  sbin  src\n"
          ]
        }
      ],
      "source": [
        "!ls /usr/local"
      ]
    },
    {
      "cell_type": "code",
      "execution_count": 98,
      "metadata": {
        "colab": {
          "base_uri": "https://localhost:8080/"
        },
        "id": "IGycp6lG3byI",
        "outputId": "0522629b-6649-4d66-850a-eff74aeb332e"
      },
      "outputs": [
        {
          "name": "stdout",
          "output_type": "stream",
          "text": [
            "/usr/local/cuda/bin/nvcc\n"
          ]
        }
      ],
      "source": [
        "!which nvcc"
      ]
    },
    {
      "cell_type": "code",
      "execution_count": 99,
      "metadata": {
        "colab": {
          "base_uri": "https://localhost:8080/"
        },
        "id": "_rB7yDQT9aOv",
        "outputId": "c9b644e6-99a2-491e-99d7-28c24001a25d"
      },
      "outputs": [
        {
          "name": "stdout",
          "output_type": "stream",
          "text": [
            "nvcc: NVIDIA (R) Cuda compiler driver\n",
            "Copyright (c) 2005-2023 NVIDIA Corporation\n",
            "Built on Tue_Aug_15_22:02:13_PDT_2023\n",
            "Cuda compilation tools, release 12.2, V12.2.140\n",
            "Build cuda_12.2.r12.2/compiler.33191640_0\n"
          ]
        }
      ],
      "source": [
        "!nvcc --version"
      ]
    },
    {
      "cell_type": "code",
      "execution_count": 100,
      "metadata": {
        "colab": {
          "base_uri": "https://localhost:8080/"
        },
        "id": "A2sk1LUm7chj",
        "outputId": "5f40be7b-7d47-4d6b-c4b0-f2fe5d1e154e"
      },
      "outputs": [
        {
          "name": "stdout",
          "output_type": "stream",
          "text": [
            "Sun Apr 14 16:39:06 2024       \n",
            "+---------------------------------------------------------------------------------------+\n",
            "| NVIDIA-SMI 535.104.05             Driver Version: 535.104.05   CUDA Version: 12.2     |\n",
            "|-----------------------------------------+----------------------+----------------------+\n",
            "| GPU  Name                 Persistence-M | Bus-Id        Disp.A | Volatile Uncorr. ECC |\n",
            "| Fan  Temp   Perf          Pwr:Usage/Cap |         Memory-Usage | GPU-Util  Compute M. |\n",
            "|                                         |                      |               MIG M. |\n",
            "|=========================================+======================+======================|\n",
            "|   0  Tesla T4                       Off | 00000000:00:04.0 Off |                    0 |\n",
            "| N/A   37C    P8               9W /  70W |      0MiB / 15360MiB |      0%      Default |\n",
            "|                                         |                      |                  N/A |\n",
            "+-----------------------------------------+----------------------+----------------------+\n",
            "                                                                                         \n",
            "+---------------------------------------------------------------------------------------+\n",
            "| Processes:                                                                            |\n",
            "|  GPU   GI   CI        PID   Type   Process name                            GPU Memory |\n",
            "|        ID   ID                                                             Usage      |\n",
            "|=======================================================================================|\n",
            "|  No running processes found                                                           |\n",
            "+---------------------------------------------------------------------------------------+\n"
          ]
        }
      ],
      "source": [
        "!nvidia-smi"
      ]
    },
    {
      "cell_type": "code",
      "execution_count": 101,
      "metadata": {
        "colab": {
          "base_uri": "https://localhost:8080/"
        },
        "id": "JDjCpMlC4If2",
        "outputId": "653d1207-f59c-4ed8-db9c-c4c53ced2af5"
      },
      "outputs": [
        {
          "name": "stdout",
          "output_type": "stream",
          "text": [
            "Collecting git+https://github.com/andreinechaev/nvcc4jupyter.git\n",
            "  Cloning https://github.com/andreinechaev/nvcc4jupyter.git to /tmp/pip-req-build-z3ehs0os\n",
            "  Running command git clone --filter=blob:none --quiet https://github.com/andreinechaev/nvcc4jupyter.git /tmp/pip-req-build-z3ehs0os\n",
            "  Resolved https://github.com/andreinechaev/nvcc4jupyter.git to commit 5741c522547756ac4bb7a16df32106a15efb8a57\n",
            "  Installing build dependencies ... \u001b[?25l\u001b[?25hdone\n",
            "  Getting requirements to build wheel ... \u001b[?25l\u001b[?25hdone\n",
            "  Preparing metadata (pyproject.toml) ... \u001b[?25l\u001b[?25hdone\n"
          ]
        }
      ],
      "source": [
        "!pip install git+https://github.com/andreinechaev/nvcc4jupyter.git"
      ]
    },
    {
      "cell_type": "code",
      "execution_count": 102,
      "metadata": {
        "colab": {
          "base_uri": "https://localhost:8080/"
        },
        "id": "mJxJGNUf3bTi",
        "outputId": "85be6ea4-5284-440e-c0e4-ff3a6f5c5214"
      },
      "outputs": [
        {
          "name": "stdout",
          "output_type": "stream",
          "text": [
            "Overwriting cuda.cu\n"
          ]
        }
      ],
      "source": [
        "%%writefile cuda.cu\n",
        "\n",
        "#include <stdio.h>\n",
        "#include <iostream>\n",
        "#include <ctime>\n",
        "#include <cmath>\n",
        "#include <cuda_runtime.h>\n",
        "#include <iomanip> // for std::setw\n",
        "\n",
        "\n",
        "__constant__ int sqrtThreadsPerBlock;\n",
        "\n",
        "__global__ void makeRightHandSideIdentity(double *mat, int n) {\n",
        "    int tid = blockIdx.x * blockDim.x + threadIdx.x;\n",
        "    if (tid < n) {\n",
        "        for (int j = n; j < 2 * n; ++j) {\n",
        "            if (tid == j - n) {\n",
        "                mat[tid * (2 * n) + j] = 1.0;\n",
        "            } else {\n",
        "                mat[tid * (2 * n) + j] = 0.0;\n",
        "            }\n",
        "        }\n",
        "    }\n",
        "}\n",
        "\n",
        "__global__ void partialPivoting(double *mat, int n) {\n",
        "    int tid = blockIdx.x * blockDim.x + threadIdx.x;\n",
        "    if (tid < n - 1) {\n",
        "        if (mat[tid * (2 * n) + 1] > mat[(tid + 1) * (2 * n) + 1]) {\n",
        "            for (int j = 0; j < 2 * n; ++j) {\n",
        "                double temp = mat[tid * (2 * n) + j];\n",
        "                mat[tid * (2 * n) + j] = mat[(tid + 1) * (2 * n) + j];\n",
        "                mat[(tid + 1) * (2 * n) + j] = temp;\n",
        "            }\n",
        "        }\n",
        "    }\n",
        "}\n",
        "\n",
        "__global__ void reduceToDiagonal(double *mat, int n, int currentRow) {\n",
        "    __shared__ double d;\n",
        "    int tid = (blockIdx.y * sqrtThreadsPerBlock * sqrtThreadsPerBlock) + (threadIdx.x * sqrtThreadsPerBlock + threadIdx.y);\n",
        "    if (blockIdx.x != currentRow) {\n",
        "        if (threadIdx.x + threadIdx.y == 0)\n",
        "        {\n",
        "            d = mat[blockIdx.x * 2*n + currentRow] / mat[currentRow * 2*n + currentRow];\n",
        "        }\n",
        "        __syncthreads();\n",
        "        mat[blockIdx.x * 2*n + tid] -= mat[currentRow * 2*n + tid] * d;\n",
        "    }\n",
        "}\n",
        "\n",
        "__global__ void reduceToUnitMatrix(double *mat, int n) {\n",
        "    __shared__ double d;\n",
        "    int tid = (blockIdx.y * sqrtThreadsPerBlock * sqrtThreadsPerBlock) + (threadIdx.x * sqrtThreadsPerBlock + threadIdx.y);\n",
        "    if (mat[blockIdx.x * 2*n + blockIdx.x] != 0) {\n",
        "        if (threadIdx.x + threadIdx.y == 0)\n",
        "        {\n",
        "            d = mat[blockIdx.x * 2*n + blockIdx.x];\n",
        "        }\n",
        "        __syncthreads();\n",
        "        mat[blockIdx.x * 2*n + tid] /= d;\n",
        "    }\n",
        "}\n",
        "\n",
        "void printMatrix(double *mat, int n) {\n",
        "    for (int i = 0; i < n; ++i) {\n",
        "        for (int j = 0; j < 2 * n; ++j) {\n",
        "            if (std::abs(mat[i * (2 * n) + j]) < std::exp(-5))\n",
        "                std::cout << std::setw(8) << 0 << \" \";\n",
        "            else\n",
        "                std::cout << std::setw(8) << mat[i * (2 * n) + j] << \" \";\n",
        "        }\n",
        "        std::cout << std::endl;\n",
        "    }\n",
        "}\n",
        "\n",
        "void printResultMatrix(double *mat, int n) {\n",
        "    for (int i = 0; i < n; ++i) {\n",
        "        for (int j = n; j < 2 * n; ++j) {\n",
        "            if (std::abs(mat[i * (2 * n) + j]) < std::exp(-5))\n",
        "                std::cout << std::setw(8) << 0 << \" \";\n",
        "            else\n",
        "                std::cout << std::setw(8) << mat[i * (2 * n) + j] << \" \";\n",
        "        }\n",
        "        std::cout << std::endl;\n",
        "    }\n",
        "}\n",
        "\n",
        "void printDeviceMatrix(double *d_mat, int n) {\n",
        "    double *temp_mat = new double[2 * n * 2 * n];\n",
        "    cudaMemcpy(temp_mat, d_mat, (2 * n) * (2 * n) * sizeof(double), cudaMemcpyDeviceToHost);\n",
        "    printMatrix(temp_mat, n);\n",
        "    delete[] temp_mat;\n",
        "}\n",
        "\n",
        "int main() {\n",
        "    int n;\n",
        "    double *mat = nullptr;\n",
        "\n",
        "    std::cin >> n;\n",
        "\n",
        "    // Allocate memory for matrix array on CPU\n",
        "    mat = new double[2 * n * 2 * n];\n",
        "\n",
        "    // Inputs the coefficients of the matrix\n",
        "    for (int i = 0; i < n; ++i) {\n",
        "        for (int j = 0; j < n; ++j) {\n",
        "            std::cin >> mat[i * (2 * n) + j];\n",
        "        }\n",
        "    }\n",
        "\n",
        "    // Print the input matrix\n",
        "    // std::cout << \"Input matrix:\" << std::endl;\n",
        "    // printMatrix(mat, n);\n",
        "\n",
        "    // CUDA memory allocation\n",
        "    double *d_mat;\n",
        "    cudaMalloc((void **)&d_mat, (2 * n) * (2 * n) * sizeof(double));\n",
        "    cudaMemcpy(d_mat, mat, (2 * n) * (2 * n) * sizeof(double), cudaMemcpyHostToDevice);\n",
        "\n",
        "    // Print the content of d_mat after memory copy\n",
        "    // std::cout << \"Content of d_mat after memory copy:\" << std::endl;\n",
        "    // printDeviceMatrix(d_mat, n);\n",
        "\n",
        "    // Launch CUDA kernels\n",
        "    int tpb = static_cast<int>(sqrt(n/2));\n",
        "    cudaMemcpyToSymbol(sqrtThreadsPerBlock, &tpb, sizeof(tpb));\n",
        "    dim3 threadsPerBlock(tpb, tpb);\n",
        "    dim3 numBlocks(n, 4);\n",
        "\n",
        "    // Call CUDA kernel to make right hand side identity\n",
        "    makeRightHandSideIdentity<<<numBlocks, threadsPerBlock>>>(d_mat, n);\n",
        "    cudaDeviceSynchronize();\n",
        "\n",
        "    std::cout << \"Content of d_mat after making right hand side identity:\" << std::endl;\n",
        "    printDeviceMatrix(d_mat, n);\n",
        "\n",
        "    // partialPivoting<<<numBlocks, threadsPerBlock>>>(d_mat, n);\n",
        "    // cudaDeviceSynchronize();\n",
        "\n",
        "    // std::cout << \"Content of d_mat after partial pivoting:\" << std::endl;\n",
        "    // printDeviceMatrix(d_mat, n);\n",
        "\n",
        "    for (int i = 0; i < n; ++i){\n",
        "        if (mat[i*2*n + i] != 0){\n",
        "            reduceToDiagonal<<<numBlocks, threadsPerBlock>>>(d_mat, n, i);\n",
        "        }\n",
        "        cudaDeviceSynchronize();\n",
        "    }\n",
        "\n",
        "    std::cout << \"\\nContent of d_mat after reduce to diagonal:\" << std::endl;\n",
        "    printDeviceMatrix(d_mat, n);\n",
        "\n",
        "    reduceToUnitMatrix<<<numBlocks, threadsPerBlock>>>(d_mat, n);\n",
        "    cudaDeviceSynchronize();\n",
        "\n",
        "    std::cout << \"Content of d_mat after reducing to unit matrix:\" << std::endl;\n",
        "    printDeviceMatrix(d_mat, n);\n",
        "\n",
        "    // Copy results back to CPU\n",
        "    cudaMemcpy(mat, d_mat, (2 * n) * (2 * n) * sizeof(double), cudaMemcpyDeviceToHost);\n",
        "\n",
        "    // Print the output matrix\n",
        "    std::cout << \"Output matrix:\" << std::endl;\n",
        "    printResultMatrix(mat, n);\n",
        "\n",
        "    // Free memory\n",
        "    delete[] mat;\n",
        "    cudaFree(d_mat);\n",
        "\n",
        "    return 0;\n",
        "}"
      ]
    },
    {
      "cell_type": "code",
      "execution_count": 103,
      "metadata": {
        "id": "Htn8MUfw3Y3-"
      },
      "outputs": [],
      "source": [
        "!nvcc cuda.cu -o cuda"
      ]
    },
    {
      "cell_type": "code",
      "execution_count": 104,
      "metadata": {
        "colab": {
          "base_uri": "https://localhost:8080/"
        },
        "id": "9gcevNpr30VU",
        "outputId": "8e8034c6-b170-4fac-de1b-68bb9bb9a20b"
      },
      "outputs": [
        {
          "name": "stdout",
          "output_type": "stream",
          "text": [
            "Content of d_mat after making right hand side identity:\n",
            "       6        2        8        1        6        4        8        8        1        0        0        0        0        0        0        0 \n",
            "       5        4        8        6        6        4        4        9        0        1        0        0        0        0        0        0 \n",
            "       1        1        2        7        5        5        4        8        0        0        1        0        0        0        0        0 \n",
            "       8        0        9        3        1        1        0        1        0        0        0        1        0        0        0        0 \n",
            "       5        5        6        9        6        4        7        1        0        0        0        0        1        0        0        0 \n",
            "       0        1        3        5        9        7        7        9        0        0        0        0        0        1        0        0 \n",
            "       2        8        7        3        4        4        7        2        0        0        0        0        0        0        1        0 \n",
            "       0        8        5        9        5        4        9        7        0        0        0        0        0        0        0        1 \n",
            "Content of d_mat after partial pivoting:\n",
            "       6        2        8        1        6        4        8        8        1        0        0        0        0        0        0        0 \n",
            "       1        1        2        7        5        5        4        8        0        0        1        0        0        0        0        0 \n",
            "       5        4        8        6        6        4        4        9        0        1        0        0        0        0        0        0 \n",
            "       1        1        2        7        5        5        4        8        0        0        1        0        0        0        0        0 \n",
            "       0        1        3        5        9        7        7        9        0        0        0        0        0        1        0        0 \n",
            "       5        5        6        9        6        4        7        1        0        0        0        0        1        0        0        0 \n",
            "       2        8        7        3        4        4        7        2        0        0        0        0        0        0        1        0 \n",
            "       0        8        5        9        5        4        9        7        0        0        0        0        0        0        0        1 \n"
          ]
        }
      ],
      "source": [
        "!./cuda < 8.txt"
      ]
    }
  ],
  "metadata": {
    "accelerator": "GPU",
    "colab": {
      "gpuType": "T4",
      "provenance": []
    },
    "kernelspec": {
      "display_name": "Python 3",
      "name": "python3"
    },
    "language_info": {
      "name": "python"
    }
  },
  "nbformat": 4,
  "nbformat_minor": 0
}
