{
  "nbformat": 4,
  "nbformat_minor": 0,
  "metadata": {
    "colab": {
      "provenance": [],
      "gpuType": "T4"
    },
    "kernelspec": {
      "name": "python3",
      "display_name": "Python 3"
    },
    "language_info": {
      "name": "python"
    },
    "accelerator": "GPU"
  },
  "cells": [
    {
      "cell_type": "code",
      "source": [
        "!ls /usr/local"
      ],
      "metadata": {
        "colab": {
          "base_uri": "https://localhost:8080/"
        },
        "id": "x0t3bEPNCEq7",
        "outputId": "f5b55eb3-aa0e-4ec6-d615-af50ff2e3512"
      },
      "execution_count": 319,
      "outputs": [
        {
          "output_type": "stream",
          "name": "stdout",
          "text": [
            "bin    cuda\tcuda-12.2  games\t       include\tlib64\t   man\t share\n",
            "colab  cuda-12\tetc\t   _gcs_config_ops.so  lib\tlicensing  sbin  src\n"
          ]
        }
      ]
    },
    {
      "cell_type": "code",
      "source": [
        "!which nvcc"
      ],
      "metadata": {
        "colab": {
          "base_uri": "https://localhost:8080/"
        },
        "id": "zFGEYsUiCFyD",
        "outputId": "f7be5007-40e2-4fc9-a793-2748090b0633"
      },
      "execution_count": 320,
      "outputs": [
        {
          "output_type": "stream",
          "name": "stdout",
          "text": [
            "/usr/local/cuda/bin/nvcc\n"
          ]
        }
      ]
    },
    {
      "cell_type": "code",
      "source": [
        "!nvcc --version"
      ],
      "metadata": {
        "colab": {
          "base_uri": "https://localhost:8080/"
        },
        "id": "fglJ97mTCIdG",
        "outputId": "65891855-75b8-4245-bfa0-888b8380aaba"
      },
      "execution_count": 321,
      "outputs": [
        {
          "output_type": "stream",
          "name": "stdout",
          "text": [
            "nvcc: NVIDIA (R) Cuda compiler driver\n",
            "Copyright (c) 2005-2023 NVIDIA Corporation\n",
            "Built on Tue_Aug_15_22:02:13_PDT_2023\n",
            "Cuda compilation tools, release 12.2, V12.2.140\n",
            "Build cuda_12.2.r12.2/compiler.33191640_0\n"
          ]
        }
      ]
    },
    {
      "cell_type": "code",
      "source": [
        "!nvidia-smi"
      ],
      "metadata": {
        "colab": {
          "base_uri": "https://localhost:8080/"
        },
        "id": "VFgPPRGDFkv3",
        "outputId": "e8ae731d-881d-43cf-89ce-59cee83e68fb"
      },
      "execution_count": 322,
      "outputs": [
        {
          "output_type": "stream",
          "name": "stdout",
          "text": [
            "/bin/bash: line 1: nvidia-smi: command not found\n"
          ]
        }
      ]
    },
    {
      "cell_type": "code",
      "source": [
        "!pip install git+https://github.com/andreinechaev/nvcc4jupyter.git"
      ],
      "metadata": {
        "colab": {
          "base_uri": "https://localhost:8080/"
        },
        "id": "Uauyh8GfCKqS",
        "outputId": "8b38b931-f89c-4562-de60-45d84715c4a3"
      },
      "execution_count": 323,
      "outputs": [
        {
          "output_type": "stream",
          "name": "stdout",
          "text": [
            "Collecting git+https://github.com/andreinechaev/nvcc4jupyter.git\n",
            "  Cloning https://github.com/andreinechaev/nvcc4jupyter.git to /tmp/pip-req-build-b_9_fhgz\n",
            "  Running command git clone --filter=blob:none --quiet https://github.com/andreinechaev/nvcc4jupyter.git /tmp/pip-req-build-b_9_fhgz\n",
            "  Resolved https://github.com/andreinechaev/nvcc4jupyter.git to commit 5741c522547756ac4bb7a16df32106a15efb8a57\n",
            "  Installing build dependencies ... \u001b[?25l\u001b[?25hdone\n",
            "  Getting requirements to build wheel ... \u001b[?25l\u001b[?25hdone\n",
            "  Preparing metadata (pyproject.toml) ... \u001b[?25l\u001b[?25hdone\n"
          ]
        }
      ]
    },
    {
      "cell_type": "code",
      "source": [
        "%%writefile cuda.cu\n",
        "\n",
        "#include <stdio.h>\n",
        "#include <iostream>\n",
        "#include <ctime>\n",
        "#include <cmath>\n",
        "#include <cuda_runtime.h>\n",
        "#include <iomanip> // for std::setw\n",
        "\n",
        "__global__ void partialPivoting(double *mat, int n) {\n",
        "    int tid = blockIdx.x * blockDim.x + threadIdx.x;\n",
        "    if (tid < n - 1) {\n",
        "        if (mat[tid * (2 * n) + 1] < mat[(tid + 1) * (2 * n) + 1]) {\n",
        "            for (int j = 0; j < 2 * n; ++j) {\n",
        "                double temp = mat[tid * (2 * n) + j];\n",
        "                mat[tid * (2 * n) + j] = mat[(tid + 1) * (2 * n) + j];\n",
        "                mat[(tid + 1) * (2 * n) + j] = temp;\n",
        "            }\n",
        "        }\n",
        "    }\n",
        "}\n",
        "\n",
        "__global__ void reduceToDiagonal(double *mat, int n) {\n",
        "    int tid = blockIdx.x * blockDim.x + threadIdx.x;\n",
        "    if (tid < n) {\n",
        "        if (mat[tid * (2 * n) + tid] != 0) {\n",
        "            for (int i = tid + 1; i < n; ++i) {\n",
        "                double d = mat[i * (2 * n) + tid] / mat[tid * (2 * n) + tid]; // Use d here\n",
        "                for (int k = tid; k < 2 * n; ++k) {\n",
        "                    mat[i * (2 * n) + k] -= mat[tid * (2 * n) + k] * d;\n",
        "                }\n",
        "            }\n",
        "        }\n",
        "    }\n",
        "}\n",
        "\n",
        "__global__ void reduceToUnitMatrix(double *mat, int n) {\n",
        "    int tid = blockIdx.x * blockDim.x + threadIdx.x;\n",
        "    if (tid < n) {\n",
        "        if (mat[tid * (2 * n) + tid] != 0) {\n",
        "            double d = mat[tid * (2 * n) + tid]; // Use d here\n",
        "            for (int j = tid; j < 2 * n; ++j) {\n",
        "                mat[tid * (2 * n) + j] = mat[tid * (2 * n) + j] / d;\n",
        "            }\n",
        "        }\n",
        "    }\n",
        "}\n",
        "\n",
        "int main() {\n",
        "    // Host code\n",
        "    int n;\n",
        "    double *mat = nullptr;\n",
        "\n",
        "    std::cin >> n;\n",
        "\n",
        "    // Allocate memory for matrix array on CPU\n",
        "    mat = new double[2 * n * 2 * n];\n",
        "\n",
        "    // Inputs the coefficients of the matrix\n",
        "    for (int i = 0; i < n; ++i) {\n",
        "        for (int j = 0; j < n; ++j) {\n",
        "            std::cin >> mat[i * (2 * n) + j];\n",
        "        }\n",
        "    }\n",
        "\n",
        "    // Print the input matrix\n",
        "    std::cout << \"Input matrix:\" << std::endl;\n",
        "    for (int i = 0; i < n; ++i) {\n",
        "        for (int j = 0; j < 2 * n; ++j) {\n",
        "            std::cout << std::setw(8) << mat[i * (2 * n) + j] << \" \";\n",
        "        }\n",
        "        std::cout << std::endl;\n",
        "    }\n",
        "\n",
        "    // CUDA memory allocation\n",
        "    double *d_mat;\n",
        "    cudaMalloc((void **)&d_mat, (2 * n) * (2 * n) * sizeof(double));\n",
        "    cudaMemcpy(d_mat, mat, (2 * n) * (2 * n) * sizeof(double), cudaMemcpyHostToDevice);\n",
        "\n",
        "    // Print the content of d_mat after memory copy\n",
        "    std::cout << \"Content of d_mat after memory copy:\" << std::endl;\n",
        "    for (int i = 0; i < 2 * n; ++i) {\n",
        "        for (int j = 0; j < 2 * n; ++j) {\n",
        "            double val;\n",
        "            cudaMemcpy(&val, &d_mat[i * (2 * n) + j], sizeof(double), cudaMemcpyDeviceToHost);\n",
        "            std::cout << std::setw(8) << val << \" \";\n",
        "        }\n",
        "        std::cout << std::endl;\n",
        "    }\n",
        "\n",
        "    // Launch CUDA kernels\n",
        "    dim3 threadsPerBlock(16, 16);\n",
        "    dim3 numBlocks((n + threadsPerBlock.x - 1) / threadsPerBlock.x, 1);\n",
        "\n",
        "    // Call CUDA kernels for each step of the algorithm\n",
        "    partialPivoting<<<numBlocks, threadsPerBlock>>>(d_mat, n);\n",
        "    cudaDeviceSynchronize();\n",
        "\n",
        "    // Print matrix after partial pivoting\n",
        "    std::cout << \"Matrix after partial pivoting:\" << std::endl;\n",
        "    for (int i = 0; i < n; ++i) {\n",
        "        for (int j = 0; j < n; ++j) {\n",
        "            std::cout << mat[i * (2 * n) + j] << \" \";\n",
        "        }\n",
        "        std::cout << std::endl;\n",
        "    }\n",
        "\n",
        "    reduceToDiagonal<<<numBlocks, threadsPerBlock>>>(d_mat, n);\n",
        "    cudaDeviceSynchronize();\n",
        "\n",
        "    // Print matrix after reducing to diagonal\n",
        "    std::cout << \"Matrix after reducing to diagonal:\" << std::endl;\n",
        "    for (int i = 0; i < n; ++i) {\n",
        "        for (int j = 0; j < n; ++j) {\n",
        "            std::cout << mat[i * (2 * n) + j] << \" \";\n",
        "        }\n",
        "        std::cout << std::endl;\n",
        "    }\n",
        "\n",
        "    reduceToUnitMatrix<<<numBlocks, threadsPerBlock>>>(d_mat, n);\n",
        "    cudaDeviceSynchronize();\n",
        "\n",
        "    // Copy results back to CPU\n",
        "    cudaMemcpy(mat, d_mat, (2 * n) * (2 * n) * sizeof(double), cudaMemcpyDeviceToHost);\n",
        "\n",
        "    // Print the output matrix\n",
        "    std::cout << \"Output matrix:\" << std::endl;\n",
        "    for (int i = 0; i < n; ++i) {\n",
        "        for (int j = 0; j < n; ++j) {\n",
        "            std::cout << mat[i * (2 * n) + j] << \" \";\n",
        "        }\n",
        "        std::cout << std::endl;\n",
        "    }\n",
        "\n",
        "    // Free memory\n",
        "    delete[] mat;\n",
        "    cudaFree(d_mat);\n",
        "\n",
        "    return 0;\n",
        "}"
      ],
      "metadata": {
        "colab": {
          "base_uri": "https://localhost:8080/"
        },
        "id": "OT6o3blkCNT8",
        "outputId": "4ae95dc5-8487-4eda-d462-5b136c75177b"
      },
      "execution_count": 324,
      "outputs": [
        {
          "output_type": "stream",
          "name": "stdout",
          "text": [
            "Overwriting cuda.cu\n"
          ]
        }
      ]
    },
    {
      "cell_type": "code",
      "source": [
        "!nvcc cuda.cu -o cuda"
      ],
      "metadata": {
        "id": "4HxndQ6JCNz7"
      },
      "execution_count": 325,
      "outputs": []
    },
    {
      "cell_type": "code",
      "source": [
        "!./cuda < 4.txt"
      ],
      "metadata": {
        "id": "2DAbGFBYEwae",
        "colab": {
          "base_uri": "https://localhost:8080/"
        },
        "outputId": "7bfc0a04-1ff6-4f40-8a42-0411d54f82fa"
      },
      "execution_count": 326,
      "outputs": [
        {
          "output_type": "stream",
          "name": "stdout",
          "text": [
            "Input matrix:\n",
            "       1        1        1        0        0        0        0        0 \n",
            "       0        3        1        2        0        0        0        0 \n",
            "       2        3        1        0        0        0        0        0 \n",
            "       1        0        2        1        0        0        0        0 \n",
            "Content of d_mat after memory copy:\n",
            "       0        0        0        0        0        0        0        0 \n",
            "       0        0        0        0        0        0        0        0 \n",
            "       0        0        0        0        0        0        0        0 \n",
            "       0        0        0        0        0        0        0        0 \n",
            "       0        0        0        0        0        0        0        0 \n",
            "       0        0        0        0        0        0        0        0 \n",
            "       0        0        0        0        0        0        0        0 \n",
            "       0        0        0        0        0        0        0        0 \n",
            "Matrix after partial pivoting:\n",
            "1 1 1 0 \n",
            "0 3 1 2 \n",
            "2 3 1 0 \n",
            "1 0 2 1 \n",
            "Matrix after reducing to diagonal:\n",
            "1 1 1 0 \n",
            "0 3 1 2 \n",
            "2 3 1 0 \n",
            "1 0 2 1 \n",
            "Output matrix:\n",
            "1 1 1 0 \n",
            "0 3 1 2 \n",
            "2 3 1 0 \n",
            "1 0 2 1 \n"
          ]
        }
      ]
    }
  ]
}